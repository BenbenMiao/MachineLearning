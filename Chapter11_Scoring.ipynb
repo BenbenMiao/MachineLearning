{
  "cells": [
    {
      "metadata": {
        "trusted": true
      },
      "cell_type": "code",
      "source": "from pandas import read_csv\nfrom sklearn.model_selection import KFold\nfrom sklearn.model_selection import cross_val_score\nfrom sklearn.linear_model import LinearRegression\n# 导入数据\nfilename = 'housing.csv'\nnames = ['CRIM', 'ZN', 'INDUS', 'CHAS', 'NOX', 'RM', 'AGE', 'DIS',\n         'RAD', 'TAX', 'PRTATIO', 'B', 'LSTAT', 'MEDV']\ndata = read_csv(filename, names=names, delim_whitespace=True)\n# 将数据分为输入数据和输出结果\narray = data.values\nX = array[:, 0:13]\nY = array[:, 13]\nn_splits = 10\nseed = 7\nkfold = KFold(n_splits=n_splits, random_state=seed)\nmodel = LinearRegression()\nscoring = 'r2'\nresult = cross_val_score(model, X, Y, cv=kfold, scoring=scoring)\nprint('R2: %.3f (%.3f)' % (result.mean(), result.std()))",
      "execution_count": 1,
      "outputs": [
        {
          "output_type": "stream",
          "text": "R2: 0.203 (0.595)\n",
          "name": "stdout"
        }
      ]
    },
    {
      "metadata": {
        "trusted": true
      },
      "cell_type": "code",
      "source": "from pandas import read_csv\nfrom sklearn.model_selection import KFold\nfrom sklearn.model_selection import cross_val_score\nfrom sklearn.linear_model import LinearRegression\n# 导入数据\nfilename = 'housing.csv'\nnames = ['CRIM', 'ZN', 'INDUS', 'CHAS', 'NOX', 'RM', 'AGE', 'DIS',\n         'RAD', 'TAX', 'PRTATIO', 'B', 'LSTAT', 'MEDV']\ndata = read_csv(filename, names=names, delim_whitespace=True)\n# 将数据分为输入数据和输出结果\narray = data.values\nX = array[:, 0:13]\nY = array[:, 13]\nn_splits = 10\nseed = 7\nkfold = KFold(n_splits=n_splits, random_state=seed)\nmodel = LinearRegression()\nscoring = 'neg_mean_squared_error'\nresult = cross_val_score(model, X, Y, cv=kfold, scoring=scoring)\nprint('MSE: %.3f (%.3f)' % (result.mean(), result.std()))",
      "execution_count": 2,
      "outputs": [
        {
          "output_type": "stream",
          "text": "MSE: -34.705 (45.574)\n",
          "name": "stdout"
        }
      ]
    },
    {
      "metadata": {
        "trusted": true
      },
      "cell_type": "code",
      "source": "from pandas import read_csv\nfrom sklearn.model_selection import KFold\nfrom sklearn.model_selection import cross_val_score\nfrom sklearn.linear_model import LinearRegression\n# 导入数据\nfilename = 'housing.csv'\nnames = ['CRIM', 'ZN', 'INDUS', 'CHAS', 'NOX', 'RM', 'AGE', 'DIS',\n         'RAD', 'TAX', 'PRTATIO', 'B', 'LSTAT', 'MEDV']\ndata = read_csv(filename, names=names, delim_whitespace=True)\n# 将数据分为输入数据和输出结果\narray = data.values\nX = array[:, 0:13]\nY = array[:, 13]\nn_splits = 10\nseed = 7\nkfold = KFold(n_splits=n_splits, random_state=seed)\nmodel = LinearRegression()\nscoring = 'neg_mean_absolute_error'\nresult = cross_val_score(model, X, Y, cv=kfold, scoring=scoring)\nprint('MAE: %.3f (%.3f)' % (result.mean(), result.std()))",
      "execution_count": 3,
      "outputs": [
        {
          "output_type": "stream",
          "text": "MAE: -4.005 (2.084)\n",
          "name": "stdout"
        }
      ]
    },
    {
      "metadata": {
        "trusted": true
      },
      "cell_type": "code",
      "source": "from pandas import read_csv\nfrom sklearn.model_selection import KFold\nfrom sklearn.model_selection import cross_val_score\nfrom sklearn.linear_model import LogisticRegression\n# 导入数据\nfilename = 'pima_data.csv'\nnames = ['preg', 'plas', 'pres', 'skin', 'test', 'mass', 'pedi', 'age', 'class']\ndata = read_csv(filename, names=names)\n# 将数据分为输入数据和输出结果\narray = data.values\nX = array[:, 0:8]\nY = array[:, 8]\nnum_folds = 10\nseed = 7\nkfold = KFold(n_splits=num_folds, random_state=seed)\nmodel = LogisticRegression()\nscoring = 'neg_log_loss'\nresult = cross_val_score(model, X, Y, cv=kfold, scoring=scoring)\nprint('Logloss %.3f (%.3f)' % (result.mean(), result.std()))",
      "execution_count": 4,
      "outputs": [
        {
          "output_type": "stream",
          "text": "Logloss -0.493 (0.047)\n",
          "name": "stdout"
        }
      ]
    },
    {
      "metadata": {
        "trusted": true
      },
      "cell_type": "code",
      "source": "from pandas import read_csv\nfrom sklearn.model_selection import KFold\nfrom sklearn.model_selection import cross_val_score\nfrom sklearn.linear_model import LogisticRegression\n# 导入数据\nfilename = 'pima_data.csv'\nnames = ['preg', 'plas', 'pres', 'skin', 'test', 'mass', 'pedi', 'age', 'class']\ndata = read_csv(filename, names=names)\n# 将数据分为输入数据和输出结果\narray = data.values\nX = array[:, 0:8]\nY = array[:, 8]\nnum_folds = 10\nseed = 7\nkfold = KFold(n_splits=num_folds, random_state=seed)\nmodel = LogisticRegression()\nscoring = 'roc_auc'\nresult = cross_val_score(model, X, Y, cv=kfold, scoring=scoring)\nprint('AUC %.3f (%.3f)' % (result.mean(), result.std()))",
      "execution_count": 5,
      "outputs": [
        {
          "output_type": "stream",
          "text": "AUC 0.824 (0.041)\n",
          "name": "stdout"
        }
      ]
    },
    {
      "metadata": {
        "trusted": true
      },
      "cell_type": "code",
      "source": "from pandas import read_csv\nfrom sklearn.model_selection import KFold\nfrom sklearn.model_selection import cross_val_score\nfrom sklearn.linear_model import LogisticRegression\n# 导入数据\nfilename = 'pima_data.csv'\nnames = ['preg', 'plas', 'pres', 'skin', 'test', 'mass', 'pedi', 'age', 'class']\ndata = read_csv(filename, names=names)\n# 将数据分为输入数据和输出结果\narray = data.values\nX = array[:, 0:8]\nY = array[:, 8]\nnum_folds = 10\nseed = 7\nkfold = KFold(n_splits=num_folds, random_state=seed)\nmodel = LogisticRegression()\nresult = cross_val_score(model, X, Y, cv=kfold)\nprint(\"算法评估结果准确度：%.3f%% (%.3f%%)\" % (result.mean(), result.std()))",
      "execution_count": 6,
      "outputs": [
        {
          "output_type": "stream",
          "text": "算法评估结果准确度：0.770% (0.048%)\n",
          "name": "stdout"
        }
      ]
    },
    {
      "metadata": {
        "trusted": true
      },
      "cell_type": "code",
      "source": "from pandas import read_csv\nfrom sklearn.model_selection import train_test_split\nfrom sklearn.linear_model import LogisticRegression\nfrom sklearn.metrics import classification_report\n# 导入数据\nfilename = 'pima_data.csv'\nnames = ['preg', 'plas', 'pres', 'skin', 'test', 'mass', 'pedi', 'age', 'class']\ndata = read_csv(filename, names=names)\n# 将数据分为输入数据和输出结果\narray = data.values\nX = array[:, 0:8]\nY = array[:, 8]\ntest_size = 0.33\nseed = 4\nX_train, X_test, Y_traing, Y_test = train_test_split(X, Y, test_size=test_size, random_state=seed)\nmodel = LogisticRegression()\nmodel.fit(X_train, Y_traing)\npredicted = model.predict(X_test)\nreport = classification_report(Y_test, predicted)\nprint(report)",
      "execution_count": 7,
      "outputs": [
        {
          "output_type": "stream",
          "text": "             precision    recall  f1-score   support\n\n        0.0       0.83      0.89      0.86       171\n        1.0       0.73      0.63      0.68        83\n\navg / total       0.80      0.80      0.80       254\n\n",
          "name": "stdout"
        }
      ]
    },
    {
      "metadata": {
        "trusted": true
      },
      "cell_type": "code",
      "source": "from pandas import read_csv\nimport pandas as pd\nfrom sklearn.model_selection import train_test_split\nfrom sklearn.linear_model import LogisticRegression\nfrom sklearn.metrics import confusion_matrix\n# 导入数据\nfilename = 'pima_data.csv'\nnames = ['preg', 'plas', 'pres', 'skin', 'test', 'mass', 'pedi', 'age', 'class']\ndata = read_csv(filename, names=names)\n# 将数据分为输入数据和输出结果\narray = data.values\nX = array[:, 0:8]\nY = array[:, 8]\ntest_size = 0.33\nseed = 4\nX_train, X_test, Y_traing, Y_test = train_test_split(X, Y, test_size=test_size, random_state=seed)\nmodel = LogisticRegression()\nmodel.fit(X_train, Y_traing)\npredicted = model.predict(X_test)\nmatrix = confusion_matrix(Y_test, predicted)\nclasses = ['0', '1']\ndataframe = pd.DataFrame(data=matrix,\n                         index=classes,\n                         columns=classes)\nprint(dataframe)",
      "execution_count": 8,
      "outputs": [
        {
          "output_type": "stream",
          "text": "     0   1\n0  152  19\n1   31  52\n",
          "name": "stdout"
        }
      ]
    },
    {
      "metadata": {
        "trusted": true
      },
      "cell_type": "code",
      "source": "",
      "execution_count": null,
      "outputs": []
    }
  ],
  "metadata": {
    "kernelspec": {
      "name": "python36",
      "display_name": "Python 3.6",
      "language": "python"
    },
    "language_info": {
      "mimetype": "text/x-python",
      "nbconvert_exporter": "python",
      "name": "python",
      "pygments_lexer": "ipython3",
      "version": "3.6.3",
      "file_extension": ".py",
      "codemirror_mode": {
        "version": 3,
        "name": "ipython"
      }
    }
  },
  "nbformat": 4,
  "nbformat_minor": 2
}