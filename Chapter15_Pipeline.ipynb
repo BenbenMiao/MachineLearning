{
  "cells": [
    {
      "metadata": {
        "trusted": true
      },
      "cell_type": "code",
      "source": "#Ida\nfrom pandas import read_csv\nfrom sklearn.model_selection import KFold\nfrom sklearn.model_selection import cross_val_score\nfrom sklearn.preprocessing import StandardScaler\nfrom sklearn.pipeline import  Pipeline\nfrom sklearn.discriminant_analysis import LinearDiscriminantAnalysis\n# 导入数据\nfilename = 'pima_data.csv'\nnames = ['preg', 'plas', 'pres', 'skin', 'test', 'mass', 'pedi', 'age', 'class']\ndata = read_csv(filename, names=names)\n# 将数据分为输入数据和输出结果\narray = data.values\nX = array[:, 0:8]\nY = array[:, 8]\nnum_folds = 10\nseed = 7\nkfold = KFold(n_splits=num_folds, random_state=seed)\nsteps = []\n# 创建Pipeline\nsteps.append(('Standardize', StandardScaler()))\nsteps.append(('lda', LinearDiscriminantAnalysis()))\nmodel = Pipeline(steps)\nresult = cross_val_score(model, X, Y, cv=kfold)\nprint(result.mean())",
      "execution_count": 1,
      "outputs": [
        {
          "output_type": "stream",
          "text": "0.773462064251538\n",
          "name": "stdout"
        }
      ]
    },
    {
      "metadata": {
        "trusted": true
      },
      "cell_type": "code",
      "source": "#Logistic\nfrom pandas import read_csv\nfrom sklearn.model_selection import KFold\nfrom sklearn.model_selection import cross_val_score\nfrom sklearn.pipeline import FeatureUnion\nfrom sklearn.pipeline import  Pipeline\nfrom sklearn.linear_model import LogisticRegression\nfrom sklearn.decomposition import PCA\nfrom sklearn.feature_selection import SelectKBest\n# 导入数据\nfilename = 'pima_data.csv'\nnames = ['preg', 'plas', 'pres', 'skin', 'test', 'mass', 'pedi', 'age', 'class']\ndata = read_csv(filename, names=names)\n# 将数据分为输入数据和输出结果\narray = data.values\nX = array[:, 0:8]\nY = array[:, 8]\nnum_folds = 10\nseed = 7\nkfold = KFold(n_splits=num_folds, random_state=seed)\n\n# 生成 feature union\nfeatures = []\nfeatures.append(('pca', PCA()))\nfeatures.append(('select_best', SelectKBest(k=6)))\n# 生成 Pipeline\nsteps = []\nsteps.append(('feature_union', FeatureUnion(features)))\nsteps.append(('logistic', LogisticRegression()))\nmodel = Pipeline(steps)\nresult = cross_val_score(model, X, Y, cv=kfold)\nprint(result.mean())",
      "execution_count": 2,
      "outputs": [
        {
          "output_type": "stream",
          "text": "0.7799555707450445\n",
          "name": "stdout"
        }
      ]
    },
    {
      "metadata": {
        "trusted": true
      },
      "cell_type": "code",
      "source": "",
      "execution_count": null,
      "outputs": []
    }
  ],
  "metadata": {
    "kernelspec": {
      "name": "python36",
      "display_name": "Python 3.6",
      "language": "python"
    },
    "language_info": {
      "mimetype": "text/x-python",
      "nbconvert_exporter": "python",
      "name": "python",
      "pygments_lexer": "ipython3",
      "version": "3.6.3",
      "file_extension": ".py",
      "codemirror_mode": {
        "version": 3,
        "name": "ipython"
      }
    }
  },
  "nbformat": 4,
  "nbformat_minor": 2
}