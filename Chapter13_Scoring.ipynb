{
  "cells": [
    {
      "metadata": {
        "trusted": true
      },
      "cell_type": "code",
      "source": "from pandas import read_csv\nfrom sklearn.model_selection import KFold\nfrom sklearn.model_selection import cross_val_score\nfrom sklearn.tree import DecisionTreeRegressor\n# 导入数据\nfilename = 'housing.csv'\nnames = ['CRIM', 'ZN', 'INDUS', 'CHAS', 'NOX', 'RM', 'AGE', 'DIS',\n         'RAD', 'TAX', 'PRTATIO', 'B', 'LSTAT', 'MEDV']\ndata = read_csv(filename, names=names, delim_whitespace=True)\n# 将数据分为输入数据和输出结果\narray = data.values\nX = array[:, 0:13]\nY = array[:, 13]\nn_splits = 10\nseed = 7\nkfold = KFold(n_splits=n_splits, random_state=seed)\nmodel = DecisionTreeRegressor()\nscoring = 'neg_mean_squared_error'\nresult = cross_val_score(model, X, Y, cv=kfold, scoring=scoring)\nprint('CART: %.3f' % result.mean())",
      "execution_count": 1,
      "outputs": [
        {
          "output_type": "stream",
          "text": "CART: -37.957\n",
          "name": "stdout"
        }
      ]
    },
    {
      "metadata": {
        "trusted": true
      },
      "cell_type": "code",
      "source": "from pandas import read_csv\nfrom sklearn.model_selection import KFold\nfrom sklearn.model_selection import cross_val_score\nfrom sklearn.linear_model import ElasticNet\n# 导入数据\nfilename = 'housing.csv'\nnames = ['CRIM', 'ZN', 'INDUS', 'CHAS', 'NOX', 'RM', 'AGE', 'DIS',\n         'RAD', 'TAX', 'PRTATIO', 'B', 'LSTAT', 'MEDV']\ndata = read_csv(filename, names=names, delim_whitespace=True)\n# 将数据分为输入数据和输出结果\narray = data.values\nX = array[:, 0:13]\nY = array[:, 13]\nn_splits = 10\nseed = 7\nkfold = KFold(n_splits=n_splits, random_state=seed)\nmodel = ElasticNet()\nscoring = 'neg_mean_squared_error'\nresult = cross_val_score(model, X, Y, cv=kfold, scoring=scoring)\nprint('ElasticNet Regression: %.3f' % result.mean())",
      "execution_count": 2,
      "outputs": [
        {
          "output_type": "stream",
          "text": "ElasticNet Regression: -31.165\n",
          "name": "stdout"
        }
      ]
    },
    {
      "metadata": {
        "trusted": true
      },
      "cell_type": "code",
      "source": "from pandas import read_csv\nfrom sklearn.model_selection import KFold\nfrom sklearn.model_selection import cross_val_score\nfrom sklearn.neighbors import KNeighborsRegressor\n# 导入数据\nfilename = 'housing.csv'\nnames = ['CRIM', 'ZN', 'INDUS', 'CHAS', 'NOX', 'RM', 'AGE', 'DIS',\n         'RAD', 'TAX', 'PRTATIO', 'B', 'LSTAT', 'MEDV']\ndata = read_csv(filename, names=names, delim_whitespace=True)\n# 将数据分为输入数据和输出结果\narray = data.values\nX = array[:, 0:13]\nY = array[:, 13]\nn_splits = 10\nseed = 7\nkfold = KFold(n_splits=n_splits, random_state=seed)\nmodel = KNeighborsRegressor()\nscoring = 'neg_mean_squared_error'\nresult = cross_val_score(model, X, Y, cv=kfold, scoring=scoring)\nprint('KNeighbors Regression: %.3f' % result.mean())",
      "execution_count": 3,
      "outputs": [
        {
          "output_type": "stream",
          "text": "KNeighbors Regression: -107.287\n",
          "name": "stdout"
        }
      ]
    },
    {
      "metadata": {
        "trusted": true
      },
      "cell_type": "code",
      "source": "from pandas import read_csv\nfrom sklearn.model_selection import KFold\nfrom sklearn.model_selection import cross_val_score\nfrom sklearn.linear_model import Lasso\n# 导入数据\nfilename = 'housing.csv'\nnames = ['CRIM', 'ZN', 'INDUS', 'CHAS', 'NOX', 'RM', 'AGE', 'DIS',\n         'RAD', 'TAX', 'PRTATIO', 'B', 'LSTAT', 'MEDV']\ndata = read_csv(filename, names=names, delim_whitespace=True)\n# 将数据分为输入数据和输出结果\narray = data.values\nX = array[:, 0:13]\nY = array[:, 13]\nn_splits = 10\nseed = 7\nkfold = KFold(n_splits=n_splits, random_state=seed)\nmodel = Lasso()\nscoring = 'neg_mean_squared_error'\nresult = cross_val_score(model, X, Y, cv=kfold, scoring=scoring)\nprint('Lasso Regression: %.3f' % result.mean())",
      "execution_count": 4,
      "outputs": [
        {
          "output_type": "stream",
          "text": "Lasso Regression: -34.464\n",
          "name": "stdout"
        }
      ]
    },
    {
      "metadata": {
        "trusted": true
      },
      "cell_type": "code",
      "source": "from pandas import read_csv\nfrom sklearn.model_selection import KFold\nfrom sklearn.model_selection import cross_val_score\nfrom sklearn.linear_model import LinearRegression\n# 导入数据\nfilename = 'housing.csv'\nnames = ['CRIM', 'ZN', 'INDUS', 'CHAS', 'NOX', 'RM', 'AGE', 'DIS',\n         'RAD', 'TAX', 'PRTATIO', 'B', 'LSTAT', 'MEDV']\ndata = read_csv(filename, names=names, delim_whitespace=True)\n# 将数据分为输入数据和输出结果\narray = data.values\nX = array[:, 0:13]\nY = array[:, 13]\nn_splits = 10\nseed = 7\nkfold = KFold(n_splits=n_splits, random_state=seed)\nmodel = LinearRegression()\nscoring = 'neg_mean_squared_error'\nresult = cross_val_score(model, X, Y, cv=kfold, scoring=scoring)\nprint('Linear Regression: %.3f' % result.mean())",
      "execution_count": 5,
      "outputs": [
        {
          "output_type": "stream",
          "text": "Linear Regression: -34.705\n",
          "name": "stdout"
        }
      ]
    },
    {
      "metadata": {
        "trusted": true
      },
      "cell_type": "code",
      "source": "from pandas import read_csv\nfrom sklearn.model_selection import KFold\nfrom sklearn.model_selection import cross_val_score\nfrom sklearn.linear_model import Ridge\n# 导入数据\nfilename = 'housing.csv'\nnames = ['CRIM', 'ZN', 'INDUS', 'CHAS', 'NOX', 'RM', 'AGE', 'DIS',\n         'RAD', 'TAX', 'PRTATIO', 'B', 'LSTAT', 'MEDV']\ndata = read_csv(filename, names=names, delim_whitespace=True)\n# 将数据分为输入数据和输出结果\narray = data.values\nX = array[:, 0:13]\nY = array[:, 13]\nn_splits = 10\nseed = 7\nkfold = KFold(n_splits=n_splits, random_state=seed)\nmodel = Ridge()\nscoring = 'neg_mean_squared_error'\nresult = cross_val_score(model, X, Y, cv=kfold, scoring=scoring)\nprint('Ridge Regression: %.3f' % result.mean())",
      "execution_count": 6,
      "outputs": [
        {
          "output_type": "stream",
          "text": "Ridge Regression: -34.078\n",
          "name": "stdout"
        }
      ]
    },
    {
      "metadata": {
        "trusted": true
      },
      "cell_type": "code",
      "source": "from pandas import read_csv\nfrom sklearn.model_selection import KFold\nfrom sklearn.model_selection import cross_val_score\nfrom sklearn.svm import SVR\n# 导入数据\nfilename = 'housing.csv'\nnames = ['CRIM', 'ZN', 'INDUS', 'CHAS', 'NOX', 'RM', 'AGE', 'DIS',\n         'RAD', 'TAX', 'PRTATIO', 'B', 'LSTAT', 'MEDV']\ndata = read_csv(filename, names=names, delim_whitespace=True)\n# 将数据分为输入数据和输出结果\narray = data.values\nX = array[:, 0:13]\nY = array[:, 13]\nn_splits = 10\nseed = 7\nkfold = KFold(n_splits=n_splits, random_state=seed)\nmodel = SVR()\nscoring = 'neg_mean_squared_error'\nresult = cross_val_score(model, X, Y, cv=kfold, scoring=scoring)\nprint('SVM: %.3f' % result.mean())",
      "execution_count": 7,
      "outputs": [
        {
          "output_type": "stream",
          "text": "SVM: -91.048\n",
          "name": "stdout"
        }
      ]
    },
    {
      "metadata": {
        "trusted": true
      },
      "cell_type": "code",
      "source": "",
      "execution_count": null,
      "outputs": []
    }
  ],
  "metadata": {
    "kernelspec": {
      "name": "python36",
      "display_name": "Python 3.6",
      "language": "python"
    },
    "language_info": {
      "mimetype": "text/x-python",
      "nbconvert_exporter": "python",
      "name": "python",
      "pygments_lexer": "ipython3",
      "version": "3.6.3",
      "file_extension": ".py",
      "codemirror_mode": {
        "version": 3,
        "name": "ipython"
      }
    }
  },
  "nbformat": 4,
  "nbformat_minor": 2
}