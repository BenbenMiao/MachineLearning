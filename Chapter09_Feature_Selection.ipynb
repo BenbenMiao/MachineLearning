{
  "cells": [
    {
      "metadata": {
        "trusted": true
      },
      "cell_type": "code",
      "source": "# 通过主要成分分析选定数据特征\nfrom pandas import read_csv\nfrom sklearn.decomposition import PCA\n# 导入数据\nfilename = 'pima_data.csv'\nnames = ['preg', 'plas', 'pres', 'skin', 'test', 'mass', 'pedi', 'age', 'class']\ndata = read_csv(filename, names=names)\n# 将数据分为输入数据和输出结果\narray = data.values\nX = array[:, 0:8]\nY = array[:, 8]\n# 特征选定\npca = PCA(n_components=3)\nfit = pca.fit(X)\nprint(\"解释方差：%s\" % fit.explained_variance_ratio_)\nprint(fit.components_)",
      "execution_count": 1,
      "outputs": [
        {
          "output_type": "stream",
          "text": "解释方差：[0.88854663 0.06159078 0.02579012]\n[[-2.02176587e-03  9.78115765e-02  1.60930503e-02  6.07566861e-02\n   9.93110844e-01  1.40108085e-02  5.37167919e-04 -3.56474430e-03]\n [-2.26488861e-02 -9.72210040e-01 -1.41909330e-01  5.78614699e-02\n   9.46266913e-02 -4.69729766e-02 -8.16804621e-04 -1.40168181e-01]\n [-2.24649003e-02  1.43428710e-01 -9.22467192e-01 -3.07013055e-01\n   2.09773019e-02 -1.32444542e-01 -6.39983017e-04 -1.25454310e-01]]\n",
          "name": "stdout"
        }
      ]
    },
    {
      "metadata": {
        "trusted": true
      },
      "cell_type": "code",
      "source": "# 通过递归消除来选定特征\nfrom pandas import read_csv\nfrom sklearn.feature_selection import RFE\nfrom sklearn.linear_model import LogisticRegression\n# 导入数据\nfilename = 'pima_data.csv'\nnames = ['preg', 'plas', 'pres', 'skin', 'test', 'mass', 'pedi', 'age', 'class']\ndata = read_csv(filename, names=names)\n# 将数据分为输入数据和输出结果\narray = data.values\nX = array[:, 0:8]\nY = array[:, 8]\n# 特征选定\nmodel = LogisticRegression()\nrfe = RFE(model, 3)\nfit = rfe.fit(X, Y)\nprint(\"特征个数：\")\nprint(fit.n_features_)\nprint(\"被选定的特征：\")\nprint(fit.support_)\nprint(\"特征排名：\")\nprint(fit.ranking_)",
      "execution_count": 2,
      "outputs": [
        {
          "output_type": "stream",
          "text": "特征个数：\n3\n被选定的特征：\n[ True False False False False  True  True False]\n特征排名：\n[1 2 3 5 6 1 1 4]\n",
          "name": "stdout"
        }
      ]
    },
    {
      "metadata": {
        "trusted": true
      },
      "cell_type": "code",
      "source": "# 通过决策树计算特征的重要性\nfrom pandas import read_csv\nfrom sklearn.ensemble import ExtraTreesClassifier\n# 导入数据\nfilename = 'pima_data.csv'\nnames = ['preg', 'plas', 'pres', 'skin', 'test', 'mass', 'pedi', 'age', 'class']\ndata = read_csv(filename, names=names)\n# 将数据分为输入数据和输出结果\narray = data.values\nX = array[:, 0:8]\nY = array[:, 8]\n# 特征选定\nmodel = ExtraTreesClassifier()\nfit = model.fit(X, Y)\nprint(fit.feature_importances_)",
      "execution_count": 3,
      "outputs": [
        {
          "output_type": "stream",
          "text": "/home/nbuser/anaconda3_501/lib/python3.6/site-packages/sklearn/ensemble/weight_boosting.py:29: DeprecationWarning: numpy.core.umath_tests is an internal NumPy module and should not be imported. It will be removed in a future NumPy release.\n  from numpy.core.umath_tests import inner1d\n",
          "name": "stderr"
        },
        {
          "output_type": "stream",
          "text": "[0.1071538  0.23355819 0.09662533 0.07668653 0.07356527 0.15832589\n 0.12738797 0.12669702]\n",
          "name": "stdout"
        }
      ]
    },
    {
      "metadata": {
        "trusted": true
      },
      "cell_type": "code",
      "source": "# 通过卡方检验选定数据特征\nfrom pandas import read_csv\nfrom numpy import set_printoptions\nfrom sklearn.feature_selection import SelectKBest\nfrom sklearn.feature_selection import chi2\n# 导入数据\nfilename = 'pima_data.csv'\nnames = ['preg', 'plas', 'pres', 'skin', 'test', 'mass', 'pedi', 'age', 'class']\ndata = read_csv(filename, names=names)\n# 将数据分为输入数据和输出结果\narray = data.values\nX = array[:, 0:8]\nY = array[:, 8]\n# 特征选定\ntest = SelectKBest(score_func=chi2, k=4)\nfit = test.fit(X, Y)\nset_printoptions(precision=3)\nprint(fit.scores_)\nfeatures = fit.transform(X)\nprint(features)",
      "execution_count": 4,
      "outputs": [
        {
          "output_type": "stream",
          "text": "[ 111.52  1411.887   17.605   53.108 2175.565  127.669    5.393  181.304]\n[[148.    0.   33.6  50. ]\n [ 85.    0.   26.6  31. ]\n [183.    0.   23.3  32. ]\n ...\n [121.  112.   26.2  30. ]\n [126.    0.   30.1  47. ]\n [ 93.    0.   30.4  23. ]]\n",
          "name": "stdout"
        }
      ]
    },
    {
      "metadata": {
        "trusted": true
      },
      "cell_type": "code",
      "source": "",
      "execution_count": null,
      "outputs": []
    }
  ],
  "metadata": {
    "kernelspec": {
      "name": "python36",
      "display_name": "Python 3.6",
      "language": "python"
    },
    "language_info": {
      "mimetype": "text/x-python",
      "nbconvert_exporter": "python",
      "name": "python",
      "pygments_lexer": "ipython3",
      "version": "3.6.3",
      "file_extension": ".py",
      "codemirror_mode": {
        "version": 3,
        "name": "ipython"
      }
    }
  },
  "nbformat": 4,
  "nbformat_minor": 2
}