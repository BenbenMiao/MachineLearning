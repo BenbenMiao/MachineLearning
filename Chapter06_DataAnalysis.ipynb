{
  "cells": [
    {
      "metadata": {
        "trusted": true
      },
      "cell_type": "code",
      "source": "from pandas import read_csv\n# 显示数据的行和列数据\nfilename = 'pima_data.csv'\nnames = ['preg', 'plas', 'pres', 'skin', 'test', 'mass', 'pedi', 'age', 'class']\ndata = read_csv(filename, names=names)\nprint(data.shape)",
      "execution_count": 4,
      "outputs": [
        {
          "output_type": "stream",
          "text": "(768, 9)\n",
          "name": "stdout"
        }
      ]
    },
    {
      "metadata": {
        "trusted": true
      },
      "cell_type": "code",
      "source": "from pandas import read_csv\n# 显示数据最初10行\nfilename = 'pima_data.csv'\nnames = ['preg', 'plas', 'pres', 'skin', 'test', 'mass', 'pedi', 'age', 'class']\ndata = read_csv(filename, names=names)\npeek = data.head(10)\nprint(peek)",
      "execution_count": 5,
      "outputs": [
        {
          "output_type": "stream",
          "text": "   preg  plas  pres  skin  test  mass   pedi  age  class\n0     6   148    72    35     0  33.6  0.627   50      1\n1     1    85    66    29     0  26.6  0.351   31      0\n2     8   183    64     0     0  23.3  0.672   32      1\n3     1    89    66    23    94  28.1  0.167   21      0\n4     0   137    40    35   168  43.1  2.288   33      1\n5     5   116    74     0     0  25.6  0.201   30      0\n6     3    78    50    32    88  31.0  0.248   26      1\n7    10   115     0     0     0  35.3  0.134   29      0\n8     2   197    70    45   543  30.5  0.158   53      1\n9     8   125    96     0     0   0.0  0.232   54      1\n",
          "name": "stdout"
        }
      ]
    },
    {
      "metadata": {
        "trusted": true
      },
      "cell_type": "code",
      "source": "from pandas import read_csv\n# 显示数据的行和列数据\nfilename = 'pima_data.csv'\nnames = ['preg', 'plas', 'pres', 'skin', 'test', 'mass', 'pedi', 'age', 'class']\ndata = read_csv(filename, names=names)\nprint(data.dtypes)",
      "execution_count": 1,
      "outputs": [
        {
          "output_type": "stream",
          "text": "preg       int64\nplas       int64\npres       int64\nskin       int64\ntest       int64\nmass     float64\npedi     float64\nage        int64\nclass      int64\ndtype: object\n",
          "name": "stdout"
        }
      ]
    },
    {
      "metadata": {
        "trusted": true
      },
      "cell_type": "code",
      "source": "from pandas import read_csv\nfrom pandas import set_option\n# 描述性统计\nfilename = 'pima_data.csv'\nnames = ['preg', 'plas', 'pres', 'skin', 'test', 'mass', 'pedi', 'age', 'class']\ndata = read_csv(filename, names=names)\nset_option('display.width', 100)\n# 设置数据的精确度\nset_option('precision', 4)\nprint(data.describe())",
      "execution_count": 2,
      "outputs": [
        {
          "output_type": "stream",
          "text": "           preg      plas      pres      skin      test      mass      pedi       age    class\ncount  768.0000  768.0000  768.0000  768.0000  768.0000  768.0000  768.0000  768.0000  768.000\nmean     3.8451  120.8945   69.1055   20.5365   79.7995   31.9926    0.4719   33.2409    0.349\nstd      3.3696   31.9726   19.3558   15.9522  115.2440    7.8842    0.3313   11.7602    0.477\nmin      0.0000    0.0000    0.0000    0.0000    0.0000    0.0000    0.0780   21.0000    0.000\n25%      1.0000   99.0000   62.0000    0.0000    0.0000   27.3000    0.2437   24.0000    0.000\n50%      3.0000  117.0000   72.0000   23.0000   30.5000   32.0000    0.3725   29.0000    0.000\n75%      6.0000  140.2500   80.0000   32.0000  127.2500   36.6000    0.6262   41.0000    1.000\nmax     17.0000  199.0000  122.0000   99.0000  846.0000   67.1000    2.4200   81.0000    1.000\n",
          "name": "stdout"
        }
      ]
    },
    {
      "metadata": {
        "trusted": true
      },
      "cell_type": "code",
      "source": "from pandas import read_csv\n# 数据分类分布统计\nfilename = 'pima_data.csv'\nnames = ['preg', 'plas', 'pres', 'skin', 'test', 'mass', 'pedi', 'age', 'class']\ndata = read_csv(filename, names=names)\nprint(data.groupby('class').size())",
      "execution_count": 6,
      "outputs": [
        {
          "output_type": "stream",
          "text": "class\n0    500\n1    268\ndtype: int64\n",
          "name": "stdout"
        }
      ]
    },
    {
      "metadata": {
        "trusted": true
      },
      "cell_type": "code",
      "source": "from pandas import read_csv\nfrom pandas import set_option\n# 显示数据的相关性\nfilename = 'pima_data.csv'\nnames = ['preg', 'plas', 'pres', 'skin', 'test', 'mass', 'pedi', 'age', 'class']\ndata = read_csv(filename, names=names)\nset_option('display.width', 100)\n# 设置数据的精确度\nset_option('precision', 2)\nprint(data.corr(method='pearson'))",
      "execution_count": 7,
      "outputs": [
        {
          "output_type": "stream",
          "text": "       preg  plas  pres  skin  test  mass  pedi   age  class\npreg   1.00  0.13  0.14 -0.08 -0.07  0.02 -0.03  0.54   0.22\nplas   0.13  1.00  0.15  0.06  0.33  0.22  0.14  0.26   0.47\npres   0.14  0.15  1.00  0.21  0.09  0.28  0.04  0.24   0.07\nskin  -0.08  0.06  0.21  1.00  0.44  0.39  0.18 -0.11   0.07\ntest  -0.07  0.33  0.09  0.44  1.00  0.20  0.19 -0.04   0.13\nmass   0.02  0.22  0.28  0.39  0.20  1.00  0.14  0.04   0.29\npedi  -0.03  0.14  0.04  0.18  0.19  0.14  1.00  0.03   0.17\nage    0.54  0.26  0.24 -0.11 -0.04  0.04  0.03  1.00   0.24\nclass  0.22  0.47  0.07  0.07  0.13  0.29  0.17  0.24   1.00\n",
          "name": "stdout"
        }
      ]
    },
    {
      "metadata": {
        "trusted": true
      },
      "cell_type": "code",
      "source": "from pandas import read_csv\n# 计算数据的高斯偏离\nfilename = 'pima_data.csv'\nnames = ['preg', 'plas', 'pres', 'skin', 'test', 'mass', 'pedi', 'age', 'class']\ndata = read_csv(filename, names=names)\nprint(data.skew())",
      "execution_count": 8,
      "outputs": [
        {
          "output_type": "stream",
          "text": "preg     0.90\nplas     0.17\npres    -1.84\nskin     0.11\ntest     2.27\nmass    -0.43\npedi     1.92\nage      1.13\nclass    0.64\ndtype: float64\n",
          "name": "stdout"
        }
      ]
    },
    {
      "metadata": {
        "trusted": true
      },
      "cell_type": "code",
      "source": "",
      "execution_count": null,
      "outputs": []
    }
  ],
  "metadata": {
    "kernelspec": {
      "name": "python36",
      "display_name": "Python 3.6",
      "language": "python"
    },
    "language_info": {
      "mimetype": "text/x-python",
      "nbconvert_exporter": "python",
      "name": "python",
      "pygments_lexer": "ipython3",
      "version": "3.6.3",
      "file_extension": ".py",
      "codemirror_mode": {
        "version": 3,
        "name": "ipython"
      }
    }
  },
  "nbformat": 4,
  "nbformat_minor": 2
}