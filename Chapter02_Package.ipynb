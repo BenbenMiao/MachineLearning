{
  "cells": [
    {
      "metadata": {
        "trusted": true
      },
      "cell_type": "code",
      "source": "import scipy\nimport numpy\nimport matplotlib\nimport pandas\n\nprint('scipy:{}'.format(scipy.__version__))\nprint('numpy:{}'.format(numpy.__version__))\nprint('matplotlib:{}'.format(matplotlib.__version__))\nprint('pandas:{}'.format(pandas.__version__))",
      "execution_count": 1,
      "outputs": [
        {
          "output_type": "stream",
          "text": "scipy:0.19.1\nnumpy:1.15.1\nmatplotlib:2.1.1\npandas:0.20.3\n",
          "name": "stdout"
        }
      ]
    },
    {
      "metadata": {
        "trusted": true
      },
      "cell_type": "code",
      "source": "",
      "execution_count": null,
      "outputs": []
    }
  ],
  "metadata": {
    "kernelspec": {
      "name": "python36",
      "display_name": "Python 3.6",
      "language": "python"
    },
    "language_info": {
      "mimetype": "text/x-python",
      "nbconvert_exporter": "python",
      "name": "python",
      "pygments_lexer": "ipython3",
      "version": "3.6.3",
      "file_extension": ".py",
      "codemirror_mode": {
        "version": 3,
        "name": "ipython"
      }
    }
  },
  "nbformat": 4,
  "nbformat_minor": 2
}