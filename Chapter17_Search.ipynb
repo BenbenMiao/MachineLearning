{
  "cells": [
    {
      "metadata": {
        "trusted": true
      },
      "cell_type": "code",
      "source": "#RandomizedSearchCV\nfrom pandas import read_csv\nfrom sklearn.linear_model import Ridge\nfrom sklearn.model_selection import RandomizedSearchCV\nfrom scipy.stats import uniform\n# 导入数据\nfilename = 'pima_data.csv'\nnames = ['preg', 'plas', 'pres', 'skin', 'test', 'mass', 'pedi', 'age', 'class']\ndata = read_csv(filename, names=names)\n# 将数据分为输入数据和输出结果\narray = data.values\nX = array[:, 0:8]\nY = array[:, 8]\n# 算法实例化\nmodel = Ridge()\n# 设置要遍历的参数\nparam_grid = {'alpha': uniform()}\n# 通过网格搜索查询最优参数\ngrid = RandomizedSearchCV(estimator=model, param_distributions=param_grid, n_iter=100, random_state=7)\ngrid.fit(X, Y)\n# 搜索结果\nprint('最高得分：%.3f' % grid.best_score_)\nprint('最优参数：%s' % grid.best_estimator_.alpha)",
      "execution_count": 1,
      "outputs": [
        {
          "output_type": "stream",
          "text": "最高得分：0.280\n最优参数：0.9779895119966027\n",
          "name": "stdout"
        }
      ]
    },
    {
      "metadata": {
        "trusted": true
      },
      "cell_type": "code",
      "source": "#GridSearchCV\nfrom pandas import read_csv\nfrom sklearn.linear_model import Ridge\nfrom sklearn.model_selection import GridSearchCV\n# 导入数据\nfilename = 'pima_data.csv'\nnames = ['preg', 'plas', 'pres', 'skin', 'test', 'mass', 'pedi', 'age', 'class']\ndata = read_csv(filename, names=names)\n# 将数据分为输入数据和输出结果\narray = data.values\nX = array[:, 0:8]\nY = array[:, 8]\n# 算法实例化\nmodel = Ridge()\n# 设置要遍历的参数\nparam_grid = {'alpha': [1, 0.1, 0.01, 0.001, 0]}\n# 通过网格搜索查询最优参数\ngrid = GridSearchCV(estimator=model, param_grid=param_grid)\ngrid.fit(X, Y)\n# 搜索结果\nprint('最高得分：%.3f' % grid.best_score_)\nprint('最优参数：%s' % grid.best_estimator_.alpha)",
      "execution_count": 2,
      "outputs": [
        {
          "output_type": "stream",
          "text": "最高得分：0.280\n最优参数：1\n",
          "name": "stdout"
        }
      ]
    },
    {
      "metadata": {
        "trusted": true
      },
      "cell_type": "code",
      "source": "",
      "execution_count": null,
      "outputs": []
    }
  ],
  "metadata": {
    "kernelspec": {
      "name": "python36",
      "display_name": "Python 3.6",
      "language": "python"
    },
    "language_info": {
      "mimetype": "text/x-python",
      "nbconvert_exporter": "python",
      "name": "python",
      "pygments_lexer": "ipython3",
      "version": "3.6.3",
      "file_extension": ".py",
      "codemirror_mode": {
        "version": 3,
        "name": "ipython"
      }
    }
  },
  "nbformat": 4,
  "nbformat_minor": 2
}