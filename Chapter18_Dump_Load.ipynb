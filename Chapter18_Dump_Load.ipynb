{
  "cells": [
    {
      "metadata": {
        "trusted": true
      },
      "cell_type": "code",
      "source": "from pandas import read_csv\nfrom sklearn.model_selection import train_test_split\nfrom sklearn.linear_model import LogisticRegression\nfrom pickle import dump\nfrom pickle import load\n# 导入数据\nfilename = 'pima_data.csv'\nnames = ['preg', 'plas', 'pres', 'skin', 'test', 'mass', 'pedi', 'age', 'class']\ndata = read_csv(filename, names=names)\n# 将数据分为输入数据和输出结果\narray = data.values\nX = array[:, 0:8]\nY = array[:, 8]\ntest_size = 0.33\nseed = 4\nX_train, X_test, Y_traing, Y_test = train_test_split(X, Y, test_size=test_size, random_state=seed)\n# 训练模型\nmodel = LogisticRegression()\nmodel.fit(X_train, Y_traing)\n\n# 保存模型\nmodel_file = 'finalized_model.sav'\nwith open(model_file, 'wb') as model_f:\n    dump(model, model_f)\n\n# 加载模型\nwith open(model_file, 'rb') as model_f:\n    loaded_model = load(model_f)\n    result = loaded_model.score(X_test, Y_test)\n    print(\"算法评估结果：%.3f%%\" % (result * 100))",
      "execution_count": 1,
      "outputs": [
        {
          "output_type": "stream",
          "text": "算法评估结果：80.315%\n",
          "name": "stdout"
        }
      ]
    },
    {
      "metadata": {
        "trusted": true
      },
      "cell_type": "code",
      "source": "from pandas import read_csv\nfrom sklearn.model_selection import train_test_split\nfrom sklearn.linear_model import LogisticRegression\nfrom sklearn.externals.joblib import dump\nfrom sklearn.externals.joblib import load\n# 导入数据\nfilename = 'pima_data.csv'\nnames = ['preg', 'plas', 'pres', 'skin', 'test', 'mass', 'pedi', 'age', 'class']\ndata = read_csv(filename, names=names)\n# 将数据分为输入数据和输出结果\narray = data.values\nX = array[:, 0:8]\nY = array[:, 8]\ntest_size = 0.33\nseed = 4\nX_train, X_test, Y_traing, Y_test = train_test_split(X, Y, test_size=test_size, random_state=seed)\n# 训练模型\nmodel = LogisticRegression()\nmodel.fit(X_train, Y_traing)\n\n# 保存模型\nmodel_file = 'finalized_model_joblib.sav'\nwith open(model_file, 'wb') as model_f:\n    dump(model, model_f)\n\n# 加载模型\nwith open(model_file, 'rb') as model_f:\n    loaded_model = load(model_f)\n    result = loaded_model.score(X_test, Y_test)\n    print(\"算法评估结果：%.3f%%\" % (result * 100))",
      "execution_count": 2,
      "outputs": [
        {
          "output_type": "stream",
          "text": "算法评估结果：80.315%\n",
          "name": "stdout"
        }
      ]
    },
    {
      "metadata": {
        "trusted": true
      },
      "cell_type": "code",
      "source": "",
      "execution_count": null,
      "outputs": []
    }
  ],
  "metadata": {
    "kernelspec": {
      "name": "python36",
      "display_name": "Python 3.6",
      "language": "python"
    },
    "language_info": {
      "mimetype": "text/x-python",
      "nbconvert_exporter": "python",
      "name": "python",
      "pygments_lexer": "ipython3",
      "version": "3.6.3",
      "file_extension": ".py",
      "codemirror_mode": {
        "version": 3,
        "name": "ipython"
      }
    }
  },
  "nbformat": 4,
  "nbformat_minor": 2
}