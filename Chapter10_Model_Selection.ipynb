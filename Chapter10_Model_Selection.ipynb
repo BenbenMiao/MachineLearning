{
  "cells": [
    {
      "metadata": {
        "trusted": true
      },
      "cell_type": "code",
      "source": "from pandas import read_csv\nfrom sklearn.model_selection import LeaveOneOut\nfrom sklearn.model_selection import cross_val_score\nfrom sklearn.linear_model import LogisticRegression\n# 导入数据\nfilename = 'pima_data.csv'\nnames = ['preg', 'plas', 'pres', 'skin', 'test', 'mass', 'pedi', 'age', 'class']\ndata = read_csv(filename, names=names)\n# 将数据分为输入数据和输出结果\narray = data.values\nX = array[:, 0:8]\nY = array[:, 8]\nloocv = LeaveOneOut()\nmodel = LogisticRegression()\nresult = cross_val_score(model, X, Y, cv=loocv)\nprint(\"算法评估结果：%.3f%% (%.3f%%)\" % (result.mean() * 100, result.std() * 100))",
      "execution_count": 1,
      "outputs": [
        {
          "output_type": "stream",
          "text": "算法评估结果：76.823% (42.196%)\n",
          "name": "stdout"
        }
      ]
    },
    {
      "metadata": {
        "trusted": true
      },
      "cell_type": "code",
      "source": "from pandas import read_csv\nfrom sklearn.model_selection import KFold\nfrom sklearn.model_selection import cross_val_score\nfrom sklearn.linear_model import LogisticRegression\n# 导入数据\nfilename = 'pima_data.csv'\nnames = ['preg', 'plas', 'pres', 'skin', 'test', 'mass', 'pedi', 'age', 'class']\ndata = read_csv(filename, names=names)\n# 将数据分为输入数据和输出结果\narray = data.values\nX = array[:, 0:8]\nY = array[:, 8]\nnum_folds = 10\nseed = 7\nkfold = KFold(n_splits=num_folds, random_state=seed)\nmodel = LogisticRegression()\nresult = cross_val_score(model, X, Y, cv=kfold)\nprint(\"算法评估结果：%.3f%% (%.3f%%)\" % (result.mean() * 100, result.std() * 100))",
      "execution_count": 2,
      "outputs": [
        {
          "output_type": "stream",
          "text": "算法评估结果：76.951% (4.841%)\n",
          "name": "stdout"
        }
      ]
    },
    {
      "metadata": {
        "trusted": true
      },
      "cell_type": "code",
      "source": "from pandas import read_csv\nfrom sklearn.model_selection import ShuffleSplit\nfrom sklearn.model_selection import cross_val_score\nfrom sklearn.linear_model import LogisticRegression\n# 导入数据\nfilename = 'pima_data.csv'\nnames = ['preg', 'plas', 'pres', 'skin', 'test', 'mass', 'pedi', 'age', 'class']\ndata = read_csv(filename, names=names)\n# 将数据分为输入数据和输出结果\narray = data.values\nX = array[:, 0:8]\nY = array[:, 8]\nn_splits = 10\ntest_size = 0.33\nseed = 7\nkfold = ShuffleSplit(n_splits=n_splits, test_size=test_size, random_state=seed)\nmodel = LogisticRegression()\nresult = cross_val_score(model, X, Y, cv=kfold)\nprint(\"算法评估结果：%.3f%% (%.3f%%)\" % (result.mean() * 100, result.std() * 100))",
      "execution_count": 3,
      "outputs": [
        {
          "output_type": "stream",
          "text": "算法评估结果：76.496% (1.698%)\n",
          "name": "stdout"
        }
      ]
    },
    {
      "metadata": {
        "trusted": true
      },
      "cell_type": "code",
      "source": "from pandas import read_csv\nfrom sklearn.model_selection import train_test_split\nfrom sklearn.linear_model import LogisticRegression\n# 导入数据\nfilename = 'pima_data.csv'\nnames = ['preg', 'plas', 'pres', 'skin', 'test', 'mass', 'pedi', 'age', 'class']\ndata = read_csv(filename, names=names)\n# 将数据分为输入数据和输出结果\narray = data.values\nX = array[:, 0:8]\nY = array[:, 8]\ntest_size = 0.33\nseed = 4\nX_train, X_test, Y_traing, Y_test = train_test_split(X, Y, test_size=test_size, random_state=seed)\nmodel = LogisticRegression()\nmodel.fit(X_train, Y_traing)\nresult = model.score(X_test, Y_test)\nprint(\"算法评估结果：%.3f%%\" % (result * 100))",
      "execution_count": 4,
      "outputs": [
        {
          "output_type": "stream",
          "text": "算法评估结果：80.315%\n",
          "name": "stdout"
        }
      ]
    },
    {
      "metadata": {
        "trusted": true
      },
      "cell_type": "code",
      "source": "",
      "execution_count": null,
      "outputs": []
    }
  ],
  "metadata": {
    "kernelspec": {
      "name": "python36",
      "display_name": "Python 3.6",
      "language": "python"
    },
    "language_info": {
      "mimetype": "text/x-python",
      "nbconvert_exporter": "python",
      "name": "python",
      "pygments_lexer": "ipython3",
      "version": "3.6.3",
      "file_extension": ".py",
      "codemirror_mode": {
        "version": 3,
        "name": "ipython"
      }
    }
  },
  "nbformat": 4,
  "nbformat_minor": 2
}