{
  "cells": [
    {
      "metadata": {
        "trusted": true
      },
      "cell_type": "code",
      "source": "from pandas import read_csv\nfrom sklearn.model_selection import KFold\nfrom sklearn.model_selection import cross_val_score\nfrom sklearn.naive_bayes import GaussianNB\n# 导入数据\nfilename = 'pima_data.csv'\nnames = ['preg', 'plas', 'pres', 'skin', 'test', 'mass', 'pedi', 'age', 'class']\ndata = read_csv(filename, names=names)\n# 将数据分为输入数据和输出结果\narray = data.values\nX = array[:, 0:8]\nY = array[:, 8]\nnum_folds = 10\nseed = 7\nkfold = KFold(n_splits=num_folds, random_state=seed)\nmodel = GaussianNB()\nresult = cross_val_score(model, X, Y, cv=kfold)\nprint(result.mean())",
      "execution_count": 1,
      "outputs": [
        {
          "output_type": "stream",
          "text": "0.7551777170198223\n",
          "name": "stdout"
        }
      ]
    },
    {
      "metadata": {
        "trusted": true
      },
      "cell_type": "code",
      "source": "from pandas import read_csv\nfrom sklearn.model_selection import KFold\nfrom sklearn.model_selection import cross_val_score\nfrom sklearn.neighbors import KNeighborsClassifier\n# 导入数据\nfilename = 'pima_data.csv'\nnames = ['preg', 'plas', 'pres', 'skin', 'test', 'mass', 'pedi', 'age', 'class']\ndata = read_csv(filename, names=names)\n# 将数据分为输入数据和输出结果\narray = data.values\nX = array[:, 0:8]\nY = array[:, 8]\nnum_folds = 10\nseed = 7\nkfold = KFold(n_splits=num_folds, random_state=seed)\nmodel = KNeighborsClassifier()\nresult = cross_val_score(model, X, Y, cv=kfold)\nprint(result.mean())",
      "execution_count": 2,
      "outputs": [
        {
          "output_type": "stream",
          "text": "0.7265550239234451\n",
          "name": "stdout"
        }
      ]
    },
    {
      "metadata": {
        "trusted": true
      },
      "cell_type": "code",
      "source": "from pandas import read_csv\nfrom sklearn.model_selection import KFold\nfrom sklearn.model_selection import cross_val_score\nfrom sklearn.tree import DecisionTreeClassifier\n# 导入数据\nfilename = 'pima_data.csv'\nnames = ['preg', 'plas', 'pres', 'skin', 'test', 'mass', 'pedi', 'age', 'class']\ndata = read_csv(filename, names=names)\n# 将数据分为输入数据和输出结果\narray = data.values\nX = array[:, 0:8]\nY = array[:, 8]\nnum_folds = 10\nseed = 7\nkfold = KFold(n_splits=num_folds, random_state=seed)\nmodel = DecisionTreeClassifier()\nresult = cross_val_score(model, X, Y, cv=kfold)\nprint(result.mean())",
      "execution_count": 3,
      "outputs": [
        {
          "output_type": "stream",
          "text": "0.7030246069719753\n",
          "name": "stdout"
        }
      ]
    },
    {
      "metadata": {
        "trusted": true
      },
      "cell_type": "code",
      "source": "from pandas import read_csv\nfrom sklearn.model_selection import KFold\nfrom sklearn.model_selection import cross_val_score\nfrom sklearn.linear_model import LogisticRegression\n# 导入数据\nfilename = 'pima_data.csv'\nnames = ['preg', 'plas', 'pres', 'skin', 'test', 'mass', 'pedi', 'age', 'class']\ndata = read_csv(filename, names=names)\n# 将数据分为输入数据和输出结果\narray = data.values\nX = array[:, 0:8]\nY = array[:, 8]\nnum_folds = 10\nseed = 7\nkfold = KFold(n_splits=num_folds, random_state=seed)\nmodel = LogisticRegression()\nresult = cross_val_score(model, X, Y, cv=kfold)\nprint(result.mean())",
      "execution_count": 4,
      "outputs": [
        {
          "output_type": "stream",
          "text": "0.7695146958304853\n",
          "name": "stdout"
        }
      ]
    },
    {
      "metadata": {
        "trusted": true
      },
      "cell_type": "code",
      "source": "#SVM:Support Vector Machine支持向量机\nfrom pandas import read_csv\nfrom sklearn.model_selection import KFold\nfrom sklearn.model_selection import cross_val_score\nfrom sklearn.svm import SVC\n# 导入数据\nfilename = 'pima_data.csv'\nnames = ['preg', 'plas', 'pres', 'skin', 'test', 'mass', 'pedi', 'age', 'class']\ndata = read_csv(filename, names=names)\n# 将数据分为输入数据和输出结果\narray = data.values\nX = array[:, 0:8]\nY = array[:, 8]\nnum_folds = 10\nseed = 7\nkfold = KFold(n_splits=num_folds, random_state=seed)\nmodel = SVC()\nresult = cross_val_score(model, X, Y, cv=kfold)\nprint(result.mean())",
      "execution_count": 5,
      "outputs": [
        {
          "output_type": "stream",
          "text": "0.6510252904989747\n",
          "name": "stdout"
        }
      ]
    },
    {
      "metadata": {
        "trusted": true
      },
      "cell_type": "code",
      "source": "",
      "execution_count": null,
      "outputs": []
    }
  ],
  "metadata": {
    "kernelspec": {
      "name": "python36",
      "display_name": "Python 3.6",
      "language": "python"
    },
    "language_info": {
      "mimetype": "text/x-python",
      "nbconvert_exporter": "python",
      "name": "python",
      "pygments_lexer": "ipython3",
      "version": "3.6.3",
      "file_extension": ".py",
      "codemirror_mode": {
        "version": 3,
        "name": "ipython"
      }
    }
  },
  "nbformat": 4,
  "nbformat_minor": 2
}