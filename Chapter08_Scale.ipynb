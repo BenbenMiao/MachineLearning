{
  "cells": [
    {
      "metadata": {
        "trusted": true
      },
      "cell_type": "code",
      "source": "# 最大最小值调整数据尺度（0..）\nfrom pandas import read_csv\nfrom numpy import set_printoptions\nfrom sklearn.preprocessing import MinMaxScaler\n# 导入数据\nfilename = 'pima_data.csv'\nnames = ['preg', 'plas', 'pres', 'skin', 'test', 'mass', 'pedi', 'age', 'class']\ndata = read_csv(filename, names=names)\n# 将数据分为输入数据和输出结果\narray = data.values\nX = array[:, 0:8]\nY = array[:, 8]\nscaler = MinMaxScaler(feature_range=(0, 1))\n# 数据转换\nrescaledX = scaler.fit_transform(X)\n# 设定数据的打印格式\nset_printoptions(precision=3)\nprint(rescaledX)",
      "execution_count": 1,
      "outputs": [
        {
          "output_type": "stream",
          "text": "[[0.353 0.744 0.59  ... 0.501 0.234 0.483]\n [0.059 0.427 0.541 ... 0.396 0.117 0.167]\n [0.471 0.92  0.525 ... 0.347 0.254 0.183]\n ...\n [0.294 0.608 0.59  ... 0.39  0.071 0.15 ]\n [0.059 0.633 0.492 ... 0.449 0.116 0.433]\n [0.059 0.467 0.574 ... 0.453 0.101 0.033]]\n",
          "name": "stdout"
        }
      ]
    },
    {
      "metadata": {
        "trusted": true
      },
      "cell_type": "code",
      "source": "# 正态标准化数据\nfrom pandas import read_csv\nfrom numpy import set_printoptions\nfrom sklearn.preprocessing import Normalizer\n# 导入数据\nfilename = 'pima_data.csv'\nnames = ['preg', 'plas', 'pres', 'skin', 'test', 'mass', 'pedi', 'age', 'class']\ndata = read_csv(filename, names=names)\n# 将数据分为输入数据和输出结果\narray = data.values\nX = array[:, 0:8]\nY = array[:, 8]\nscaler = Normalizer().fit(X)\n# 数据转换\nrescaledX = scaler.transform(X)\n# 设定数据的打印格式\nset_printoptions(precision=3)\nprint(rescaledX)",
      "execution_count": 2,
      "outputs": [
        {
          "output_type": "stream",
          "text": "[[0.034 0.828 0.403 ... 0.188 0.004 0.28 ]\n [0.008 0.716 0.556 ... 0.224 0.003 0.261]\n [0.04  0.924 0.323 ... 0.118 0.003 0.162]\n ...\n [0.027 0.651 0.388 ... 0.141 0.001 0.161]\n [0.007 0.838 0.399 ... 0.2   0.002 0.313]\n [0.008 0.736 0.554 ... 0.241 0.002 0.182]]\n",
          "name": "stdout"
        }
      ]
    },
    {
      "metadata": {
        "trusted": true
      },
      "cell_type": "code",
      "source": "# 标准化数据\nfrom pandas import read_csv\nfrom numpy import set_printoptions\nfrom sklearn.preprocessing import StandardScaler\n# 导入数据\nfilename = 'pima_data.csv'\nnames = ['preg', 'plas', 'pres', 'skin', 'test', 'mass', 'pedi', 'age', 'class']\ndata = read_csv(filename, names=names)\n# 将数据分为输入数据和输出结果\narray = data.values\nX = array[:, 0:8]\nY = array[:, 8]\nscaler = StandardScaler().fit(X)\n# 数据转换\nrescaledX = scaler.transform(X)\n# 设定数据的打印格式\nset_printoptions(precision=3)\nprint(rescaledX)",
      "execution_count": 3,
      "outputs": [
        {
          "output_type": "stream",
          "text": "[[ 0.64   0.848  0.15  ...  0.204  0.468  1.426]\n [-0.845 -1.123 -0.161 ... -0.684 -0.365 -0.191]\n [ 1.234  1.944 -0.264 ... -1.103  0.604 -0.106]\n ...\n [ 0.343  0.003  0.15  ... -0.735 -0.685 -0.276]\n [-0.845  0.16  -0.471 ... -0.24  -0.371  1.171]\n [-0.845 -0.873  0.046 ... -0.202 -0.474 -0.871]]\n",
          "name": "stdout"
        }
      ]
    },
    {
      "metadata": {
        "trusted": true
      },
      "cell_type": "code",
      "source": "# 二值数据\nfrom pandas import read_csv\nfrom numpy import set_printoptions\nfrom sklearn.preprocessing import Binarizer\n# 导入数据\nfilename = 'pima_data.csv'\nnames = ['preg', 'plas', 'pres', 'skin', 'test', 'mass', 'pedi', 'age', 'class']\ndata = read_csv(filename, names=names)\n# 将数据分为输入数据和输出结果\narray = data.values\nX = array[:, 0:8]\nY = array[:, 8]\ntransform = Binarizer(threshold=0.0).fit(X)\n# 数据转换\nnewX = transform.transform(X)\n# 设定数据的打印格式\nset_printoptions(precision=3)\nprint(newX)",
      "execution_count": 4,
      "outputs": [
        {
          "output_type": "stream",
          "text": "[[1. 1. 1. ... 1. 1. 1.]\n [1. 1. 1. ... 1. 1. 1.]\n [1. 1. 1. ... 1. 1. 1.]\n ...\n [1. 1. 1. ... 1. 1. 1.]\n [1. 1. 1. ... 1. 1. 1.]\n [1. 1. 1. ... 1. 1. 1.]]\n",
          "name": "stdout"
        }
      ]
    },
    {
      "metadata": {
        "trusted": true
      },
      "cell_type": "code",
      "source": "",
      "execution_count": null,
      "outputs": []
    }
  ],
  "metadata": {
    "kernelspec": {
      "name": "python36",
      "display_name": "Python 3.6",
      "language": "python"
    },
    "language_info": {
      "mimetype": "text/x-python",
      "nbconvert_exporter": "python",
      "name": "python",
      "pygments_lexer": "ipython3",
      "version": "3.6.3",
      "file_extension": ".py",
      "codemirror_mode": {
        "version": 3,
        "name": "ipython"
      }
    }
  },
  "nbformat": 4,
  "nbformat_minor": 2
}